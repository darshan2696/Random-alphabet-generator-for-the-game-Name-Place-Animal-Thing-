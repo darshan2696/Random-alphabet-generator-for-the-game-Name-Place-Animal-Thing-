{
 "cells": [
  {
   "cell_type": "markdown",
   "metadata": {},
   "source": [
    "# Game Night"
   ]
  },
  {
   "cell_type": "code",
   "execution_count": 2,
   "metadata": {},
   "outputs": [],
   "source": [
    "#Dependencies'\n",
    "#-------------\n",
    "\n",
    "import numpy as np\n",
    "import sys\n",
    "import time\n",
    "import winsound\n"
   ]
  },
  {
   "cell_type": "code",
   "execution_count": 6,
   "metadata": {},
   "outputs": [],
   "source": [
    "#Variable initialization\n",
    "#------------------------\n",
    "\n",
    "alphabets = {1:'a',2:'b',3:'c',4:'d',5:'e',6:'f',7:'g',8:'h',9:'i',10:'j',11:'k',12:'l',13:'m',14:'n',15:'o',16:'p',17:'q',18:'r',19:'s',20:'t',21:'u',22:'v',23:'w',24:'x',25:'y',26:'z'}\n",
    "hist = []\n",
    "alphabets_data = {1:'a',2:'b',3:'c',4:'d',5:'e',6:'f',7:'g',8:'h',9:'i',10:'j',11:'k',12:'l',13:'m',14:'n',15:'o',16:'p',17:'q',18:'r',19:'s',20:'t',21:'u',22:'v',23:'w',24:'x',25:'y',26:'z'}\n",
    "rounds = 1\n"
   ]
  },
  {
   "cell_type": "code",
   "execution_count": 4,
   "metadata": {},
   "outputs": [],
   "source": [
    "#Scoring Initialization :\n",
    "#------------------------\n",
    "\n",
    "players = [1,2,3,4,5,6,7,8,9,10,11]\n",
    "\n",
    "score =[0,0,0,0,0,0,0,0,0,0,0]\n"
   ]
  },
  {
   "cell_type": "code",
   "execution_count": 16,
   "metadata": {},
   "outputs": [
    {
     "name": "stdout",
     "output_type": "stream",
     "text": [
      "Round : 10\n",
      "\n",
      "\n",
      " The next alphabet coming up in  0 \n",
      " \n",
      " ---------------> w <---------------- \n",
      "\n",
      "              Tik Tik 0  "
     ]
    }
   ],
   "source": [
    "#Random alphabet ggenerator:\n",
    "#---------------------------\n",
    "\n",
    "print(\"Round :\",rounds)\n",
    "print(\"\\n\")\n",
    "rounds += 1\n",
    "for remaining in range(5, -1, -1):\n",
    "    sys.stdout.write(\"\\r The next alphabet coming up in  %d \" %remaining)  #Timer before the word is displayed.\n",
    "    time.sleep(1)\n",
    "\n",
    "a = np.random.randint(1,27)                                                #Generates Random number between 1 and 26.\n",
    "\n",
    "while a not in hist:\n",
    "    hist.append(a)\n",
    "    print(\"\\n \\n ---------------> \" + alphabets.pop(a) + \" <---------------- \\n\") #Delets the word from dictionary.\n",
    "    for remaining in range(35, -1, -1):\n",
    "        sys.stdout.write(\"\\r              Tik Tik %d \" %remaining)         #Timer before Buzzer\n",
    "        time.sleep(1)\n",
    "    for i in range(1,4):\n",
    "        frequency = 2500\n",
    "        duration = 900  \n",
    "        winsound.Beep(frequency, duration)                                 #Beeping sound\n",
    "        time.sleep(0.5)\n",
    "    break\n",
    "else:\n",
    "    hist_new = []                                                          #Creates a new list to store everything which not in history\n",
    "    for i in range(1,27):\n",
    "        if i in hist:\n",
    "            pass\n",
    "        else:\n",
    "            hist_new.append(i)                                             #Check and adds the terams that aren't present in hist\n",
    "    a = np.random.choice(hist_new)                                         #Takes a random sample from hist_new\n",
    "    hist.append(a)                                                         #Saves this random also into hist\n",
    "    print(\"\\n    ---------------> \" + alphabets.pop(a) + \" <---------------- \\n\")\n",
    "    for remaining in range(35, -1, -1):\n",
    "        sys.stdout.write(\"\\r              Tik Tik %d \" %remaining)\n",
    "        time.sleep(1)\n",
    "    for i in range(1,4):\n",
    "        frequency = 2500                                                   # Set Frequency To 2500 Hertz\n",
    "        duration = 900                                                     # Set Duration To 1000 ms == 1 second\n",
    "        winsound.Beep(frequency, duration)\n",
    "        time.sleep(0.5)\n",
    "        "
   ]
  },
  {
   "cell_type": "code",
   "execution_count": 17,
   "metadata": {},
   "outputs": [
    {
     "name": "stdout",
     "output_type": "stream",
     "text": [
      "Enter the score for player  1 : 185\n",
      "Enter the score for player  2 : 310\n",
      "Enter the score for player  3 : 325\n",
      "Enter the score for player  4 : 330\n",
      "Enter the score for player  5 : 335\n",
      "Enter the score for player  6 : 265\n",
      "Enter the score for player  7 : 320\n",
      "Enter the score for player  8 : 320\n",
      "Enter the score for player  9 : 270\n",
      "Enter the score for player  10 : 340\n",
      "Enter the score for player  11 : 285\n"
     ]
    }
   ],
   "source": [
    "#Scoring:\n",
    "#-----------\n",
    "\n",
    "for i in range(1,12):\n",
    "    sc = int(input(\"Enter the score for player  %d : \"%i))\n",
    "    score[i-1] = score[i-1] + sc\n",
    "    "
   ]
  },
  {
   "cell_type": "code",
   "execution_count": 19,
   "metadata": {},
   "outputs": [
    {
     "name": "stdout",
     "output_type": "stream",
     "text": [
      "[285, 310, 325, 330, 335, 265, 320, 320, 270, 340, 285]\n"
     ]
    }
   ],
   "source": [
    "score[0] = score[0] +100\n",
    "print(score)"
   ]
  },
  {
   "cell_type": "code",
   "execution_count": 21,
   "metadata": {},
   "outputs": [
    {
     "name": "stdout",
     "output_type": "stream",
     "text": [
      "\n",
      "score of player 1 310\n",
      "\n",
      "score of player 2 325\n",
      "\n",
      "score of player 3 330\n",
      "\n",
      "score of player 4 335\n",
      "\n",
      "score of player 5 265\n",
      "\n",
      "score of player 6 320\n",
      "\n",
      "score of player 7 320\n",
      "\n",
      "score of player 8 270\n",
      "\n",
      "score of player 9 340\n",
      "\n",
      "score of player 10 285\n"
     ]
    },
    {
     "ename": "IndexError",
     "evalue": "list index out of range",
     "output_type": "error",
     "traceback": [
      "\u001b[1;31m---------------------------------------------------------------------------\u001b[0m",
      "\u001b[1;31mIndexError\u001b[0m                                Traceback (most recent call last)",
      "\u001b[1;32m<ipython-input-21-eedb9ac5266e>\u001b[0m in \u001b[0;36m<module>\u001b[1;34m\u001b[0m\n\u001b[0;32m      1\u001b[0m \u001b[1;32mfor\u001b[0m \u001b[0mi\u001b[0m \u001b[1;32min\u001b[0m \u001b[0mrange\u001b[0m\u001b[1;33m(\u001b[0m\u001b[1;36m1\u001b[0m\u001b[1;33m,\u001b[0m\u001b[1;36m12\u001b[0m\u001b[1;33m)\u001b[0m\u001b[1;33m:\u001b[0m\u001b[1;33m\u001b[0m\u001b[1;33m\u001b[0m\u001b[0m\n\u001b[1;32m----> 2\u001b[1;33m     \u001b[0mprint\u001b[0m\u001b[1;33m(\u001b[0m\u001b[1;34m\"\\nscore of player %d\"\u001b[0m\u001b[1;33m%\u001b[0m\u001b[0mi\u001b[0m\u001b[1;33m,\u001b[0m \u001b[0mscore\u001b[0m\u001b[1;33m[\u001b[0m\u001b[0mi\u001b[0m\u001b[1;33m]\u001b[0m\u001b[1;33m)\u001b[0m\u001b[1;33m\u001b[0m\u001b[1;33m\u001b[0m\u001b[0m\n\u001b[0m",
      "\u001b[1;31mIndexError\u001b[0m: list index out of range"
     ]
    }
   ],
   "source": [
    "for i in range(1,12):\n",
    "    print(\"\\nscore of player %d\"%i, score[i])"
   ]
  },
  {
   "cell_type": "code",
   "execution_count": null,
   "metadata": {},
   "outputs": [],
   "source": [
    "\n",
    "print('Alphabets History:')\n",
    "for i in hist:\n",
    "    print(alphabets_data[i])\n"
   ]
  },
  {
   "cell_type": "code",
   "execution_count": null,
   "metadata": {},
   "outputs": [],
   "source": [
    "\n",
    "print('Alphabets remaining:')\n",
    "for i in range(1,27):\n",
    "    if i not in hist :\n",
    "        print(alphabets_data[i],i)\n"
   ]
  }
 ],
 "metadata": {
  "kernelspec": {
   "display_name": "Python 3",
   "language": "python",
   "name": "python3"
  },
  "language_info": {
   "codemirror_mode": {
    "name": "ipython",
    "version": 3
   },
   "file_extension": ".py",
   "mimetype": "text/x-python",
   "name": "python",
   "nbconvert_exporter": "python",
   "pygments_lexer": "ipython3",
   "version": "3.7.4"
  }
 },
 "nbformat": 4,
 "nbformat_minor": 2
}
